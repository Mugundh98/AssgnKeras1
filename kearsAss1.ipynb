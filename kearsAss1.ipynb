{
  "nbformat": 4,
  "nbformat_minor": 0,
  "metadata": {
    "colab": {
      "name": "kearsAss1.ipynb",
      "provenance": []
    },
    "kernelspec": {
      "name": "python3",
      "display_name": "Python 3"
    },
    "accelerator": "GPU"
  },
  "cells": [
    {
      "cell_type": "code",
      "metadata": {
        "id": "64BKUp-TycrT",
        "colab_type": "code",
        "outputId": "3fff764a-29ea-4f03-9c72-e457715b8202",
        "colab": {
          "base_uri": "https://localhost:8080/",
          "height": 101
        }
      },
      "source": [
        "!pip install -q -U tensorflow_datasets\n",
        "!pip install tensorflow-metadata"
      ],
      "execution_count": 2,
      "outputs": [
        {
          "output_type": "stream",
          "text": [
            "Requirement already satisfied: tensorflow-metadata in /usr/local/lib/python3.6/dist-packages (0.22.1)\n",
            "Requirement already satisfied: protobuf<4,>=3.7 in /usr/local/lib/python3.6/dist-packages (from tensorflow-metadata) (3.10.0)\n",
            "Requirement already satisfied: googleapis-common-protos in /usr/local/lib/python3.6/dist-packages (from tensorflow-metadata) (1.52.0)\n",
            "Requirement already satisfied: setuptools in /usr/local/lib/python3.6/dist-packages (from protobuf<4,>=3.7->tensorflow-metadata) (47.1.1)\n",
            "Requirement already satisfied: six>=1.9 in /usr/local/lib/python3.6/dist-packages (from protobuf<4,>=3.7->tensorflow-metadata) (1.12.0)\n"
          ],
          "name": "stdout"
        }
      ]
    },
    {
      "cell_type": "code",
      "metadata": {
        "id": "pAzWbHVa1Dy3",
        "colab_type": "code",
        "outputId": "eb52570d-9751-4c1e-9e7d-2920ab04b205",
        "colab": {
          "base_uri": "https://localhost:8080/",
          "height": 1000
        }
      },
      "source": [
        "! python -m tensorflow_datasets.scripts.download_and_prepare --register_checksums --datasets=oxford_flowers102"
      ],
      "execution_count": 3,
      "outputs": [
        {
          "output_type": "stream",
          "text": [
            "2020-06-13 10:41:02.579147: I tensorflow/stream_executor/platform/default/dso_loader.cc:44] Successfully opened dynamic library libcudart.so.10.1\n",
            "I0613 10:41:06.832287 140022945085312 download_and_prepare.py:194] Running download_and_prepare for dataset(s):\n",
            "oxford_flowers102\n",
            "I0613 10:41:06.833777 140022945085312 dataset_info.py:361] Load dataset info from /root/tensorflow_datasets/oxford_flowers102/2.1.0\n",
            "I0613 10:41:06.837062 140022945085312 download_and_prepare.py:133] download_and_prepare for dataset oxford_flowers102/2.1.0...\n",
            "I0613 10:41:06.837439 140022945085312 dataset_builder.py:282] Reusing dataset oxford_flowers102 (/root/tensorflow_datasets/oxford_flowers102/2.1.0)\n",
            "\u001b[1mname: \"oxford_flowers102\"\n",
            "description: \"The Oxford Flowers 102 dataset is a consistent of 102 flower categories commonly occurring\\nin the United Kingdom. Each class consists of between 40 and 258 images. The images have\\nlarge scale, pose and light variations. In addition, there are categories that have large\\nvariations within the category and several very similar categories.\\n\\nThe dataset is divided into a training set, a validation set and a test set.\\nThe training set and validation set each consist of 10 images per class (totalling 1020 images each).\\nThe test set consists of the remaining 6149 images (minimum 20 per class).\"\n",
            "citation: \"@InProceedings{Nilsback08,\\n   author = \\\"Nilsback, M-E. and Zisserman, A.\\\",\\n   title = \\\"Automated Flower Classification over a Large Number of Classes\\\",\\n   booktitle = \\\"Proceedings of the Indian Conference on Computer Vision, Graphics and Image Processing\\\",\\n   year = \\\"2008\\\",\\n   month = \\\"Dec\\\"\\n}\"\n",
            "location {\n",
            "  urls: \"https://www.robots.ox.ac.uk/~vgg/data/flowers/102/\"\n",
            "}\n",
            "schema {\n",
            "  feature {\n",
            "    name: \"file_name\"\n",
            "    type: BYTES\n",
            "  }\n",
            "  feature {\n",
            "    name: \"image\"\n",
            "    type: INT\n",
            "    shape {\n",
            "      dim {\n",
            "        size: -1\n",
            "      }\n",
            "      dim {\n",
            "        size: -1\n",
            "      }\n",
            "      dim {\n",
            "        size: 3\n",
            "      }\n",
            "    }\n",
            "  }\n",
            "  feature {\n",
            "    name: \"label\"\n",
            "    type: INT\n",
            "  }\n",
            "}\n",
            "splits {\n",
            "  name: \"test\"\n",
            "  num_shards: 1\n",
            "  statistics {\n",
            "    num_examples: 6149\n",
            "    features {\n",
            "      name: \"file_name\"\n",
            "      type: BYTES\n",
            "      bytes_stats {\n",
            "        common_stats {\n",
            "          num_non_missing: 6149\n",
            "        }\n",
            "      }\n",
            "    }\n",
            "    features {\n",
            "      name: \"image\"\n",
            "      num_stats {\n",
            "        common_stats {\n",
            "          num_non_missing: 6149\n",
            "        }\n",
            "        max: 255.0\n",
            "      }\n",
            "    }\n",
            "    features {\n",
            "      name: \"label\"\n",
            "      num_stats {\n",
            "        common_stats {\n",
            "          num_non_missing: 6149\n",
            "        }\n",
            "        max: 101.0\n",
            "      }\n",
            "    }\n",
            "  }\n",
            "  shard_lengths: 3074\n",
            "  shard_lengths: 3075\n",
            "  num_bytes: 260784877\n",
            "}\n",
            "splits {\n",
            "  name: \"train\"\n",
            "  num_shards: 1\n",
            "  statistics {\n",
            "    num_examples: 1020\n",
            "    features {\n",
            "      name: \"file_name\"\n",
            "      type: BYTES\n",
            "      bytes_stats {\n",
            "        common_stats {\n",
            "          num_non_missing: 1020\n",
            "        }\n",
            "      }\n",
            "    }\n",
            "    features {\n",
            "      name: \"image\"\n",
            "      num_stats {\n",
            "        common_stats {\n",
            "          num_non_missing: 1020\n",
            "        }\n",
            "        max: 255.0\n",
            "      }\n",
            "    }\n",
            "    features {\n",
            "      name: \"label\"\n",
            "      num_stats {\n",
            "        common_stats {\n",
            "          num_non_missing: 1020\n",
            "        }\n",
            "        max: 101.0\n",
            "      }\n",
            "    }\n",
            "  }\n",
            "  shard_lengths: 1020\n",
            "  num_bytes: 43474584\n",
            "}\n",
            "splits {\n",
            "  name: \"validation\"\n",
            "  num_shards: 1\n",
            "  statistics {\n",
            "    num_examples: 1020\n",
            "    features {\n",
            "      name: \"file_name\"\n",
            "      type: BYTES\n",
            "      bytes_stats {\n",
            "        common_stats {\n",
            "          num_non_missing: 1020\n",
            "        }\n",
            "      }\n",
            "    }\n",
            "    features {\n",
            "      name: \"image\"\n",
            "      num_stats {\n",
            "        common_stats {\n",
            "          num_non_missing: 1020\n",
            "        }\n",
            "        max: 255.0\n",
            "      }\n",
            "    }\n",
            "    features {\n",
            "      name: \"label\"\n",
            "      num_stats {\n",
            "        common_stats {\n",
            "          num_non_missing: 1020\n",
            "        }\n",
            "        max: 101.0\n",
            "      }\n",
            "    }\n",
            "  }\n",
            "  shard_lengths: 1020\n",
            "  num_bytes: 43180278\n",
            "}\n",
            "supervised_keys {\n",
            "  input: \"image\"\n",
            "  output: \"label\"\n",
            "}\n",
            "version: \"2.1.0\"\n",
            "download_size: 344878000\n",
            "\u001b[0m\n"
          ],
          "name": "stdout"
        }
      ]
    },
    {
      "cell_type": "code",
      "metadata": {
        "id": "28_U-X311pIO",
        "colab_type": "code",
        "outputId": "a6db11bf-4a9a-46c2-952d-4f153a6465d5",
        "colab": {
          "base_uri": "https://localhost:8080/",
          "height": 34
        }
      },
      "source": [
        "import tensorflow_datasets as tfds\n",
        "import tensorflow as tf\n",
        "from keras.models import Sequential\n",
        "from keras.layers import Dense, Conv2D, Activation, MaxPooling2D, Flatten, Dropout, AveragePooling2D\n",
        "from tensorflow.keras.optimizers import Adam\n",
        "import numpy as np\n"
      ],
      "execution_count": 4,
      "outputs": [
        {
          "output_type": "stream",
          "text": [
            "Using TensorFlow backend.\n"
          ],
          "name": "stderr"
        }
      ]
    },
    {
      "cell_type": "code",
      "metadata": {
        "id": "RiMPoqagHnES",
        "colab_type": "code",
        "colab": {}
      },
      "source": [
        "test, train, validate = tfds.load('oxford_flowers102', split=['train','test','validation'], as_supervised=True)"
      ],
      "execution_count": 0,
      "outputs": []
    },
    {
      "cell_type": "code",
      "metadata": {
        "id": "eJ_MYPmSHuSE",
        "colab_type": "code",
        "colab": {
          "base_uri": "https://localhost:8080/",
          "height": 34
        },
        "outputId": "9b9d938a-9464-47dd-cec1-88e6aa52b805"
      },
      "source": [
        "test"
      ],
      "execution_count": 9,
      "outputs": [
        {
          "output_type": "execute_result",
          "data": {
            "text/plain": [
              "<PrefetchDataset shapes: ((None, None, 3), ()), types: (tf.uint8, tf.int64)>"
            ]
          },
          "metadata": {
            "tags": []
          },
          "execution_count": 9
        }
      ]
    },
    {
      "cell_type": "code",
      "metadata": {
        "id": "7nwZMFB6XQdR",
        "colab_type": "code",
        "outputId": "2ec2c09d-77cc-4dcc-e339-1fdaae68e48d",
        "colab": {
          "base_uri": "https://localhost:8080/",
          "height": 34
        }
      },
      "source": [
        "validate"
      ],
      "execution_count": 10,
      "outputs": [
        {
          "output_type": "execute_result",
          "data": {
            "text/plain": [
              "<PrefetchDataset shapes: ((None, None, 3), ()), types: (tf.uint8, tf.int64)>"
            ]
          },
          "metadata": {
            "tags": []
          },
          "execution_count": 10
        }
      ]
    },
    {
      "cell_type": "code",
      "metadata": {
        "id": "-TJnbARMXE5z",
        "colab_type": "code",
        "colab": {}
      },
      "source": [
        "from tensorflow.python.framework import ops\n",
        "ops.reset_default_graph()"
      ],
      "execution_count": 0,
      "outputs": []
    },
    {
      "cell_type": "code",
      "metadata": {
        "id": "ibEbPzyUSGAq",
        "colab_type": "code",
        "colab": {}
      },
      "source": [
        "\n",
        "ntrain=sum(1 for _ in train)\n",
        "ntest=sum(1 for _ in test)\n",
        "nval=sum(1 for _ in  validate)"
      ],
      "execution_count": 0,
      "outputs": []
    },
    {
      "cell_type": "code",
      "metadata": {
        "id": "8jL7Zi4QKzbu",
        "colab_type": "code",
        "colab": {
          "base_uri": "https://localhost:8080/",
          "height": 34
        },
        "outputId": "5a5170fa-1ffa-49c2-ee55-92b3656ca9b3"
      },
      "source": [
        "nval"
      ],
      "execution_count": 13,
      "outputs": [
        {
          "output_type": "execute_result",
          "data": {
            "text/plain": [
              "1020"
            ]
          },
          "metadata": {
            "tags": []
          },
          "execution_count": 13
        }
      ]
    },
    {
      "cell_type": "code",
      "metadata": {
        "id": "rXSRVvdQcEVr",
        "colab_type": "code",
        "colab": {}
      },
      "source": [
        "def normalize_img(image, label):\n",
        "    image = tf.cast(image, tf.float32)\n",
        "    image = image / 255.0\n",
        "    image = tf.image.resize(image, (128,128))\n",
        "    return image, label\n"
      ],
      "execution_count": 0,
      "outputs": []
    },
    {
      "cell_type": "code",
      "metadata": {
        "id": "wJPO5WteSGXb",
        "colab_type": "code",
        "colab": {}
      },
      "source": [
        "mapped_train = train.map(normalize_img)\n",
        "cached_train = mapped_train.cache()\n",
        "batch_train = cached_train.repeat(20).batch(32)\n",
        "tuned_train = batch_train.prefetch(tf.data.experimental.AUTOTUNE)"
      ],
      "execution_count": 0,
      "outputs": []
    },
    {
      "cell_type": "code",
      "metadata": {
        "id": "EMx5fos1SGt0",
        "colab_type": "code",
        "colab": {}
      },
      "source": [
        "mapped_test = test.map(normalize_img)\n",
        "repeated_test = mapped_test.repeat(20).batch(32)\n",
        "cached_test = repeated_test.cache()\n",
        "tuned_test = cached_test.prefetch(tf.data.experimental.AUTOTUNE)"
      ],
      "execution_count": 0,
      "outputs": []
    },
    {
      "cell_type": "code",
      "metadata": {
        "id": "zpaHEmuvLYYH",
        "colab_type": "code",
        "colab": {}
      },
      "source": [
        "mapped_validate = validate.map(normalize_img)\n",
        "repeated_validate = mapped_validate.repeat(20).batch(32)\n",
        "cached_validate = repeated_validate.cache()\n",
        "tuned_validate = cached_validate.prefetch(tf.data.experimental.AUTOTUNE)"
      ],
      "execution_count": 0,
      "outputs": []
    },
    {
      "cell_type": "code",
      "metadata": {
        "id": "KsYWohWAeBU2",
        "colab_type": "code",
        "colab": {}
      },
      "source": [
        "from keras.layers import AveragePooling2D"
      ],
      "execution_count": 0,
      "outputs": []
    },
    {
      "cell_type": "code",
      "metadata": {
        "id": "Acbo9SA2gObX",
        "colab_type": "code",
        "colab": {}
      },
      "source": [
        "tf.keras.backend.clear_session()"
      ],
      "execution_count": 0,
      "outputs": []
    },
    {
      "cell_type": "code",
      "metadata": {
        "id": "jYljVotESG9M",
        "colab_type": "code",
        "colab": {}
      },
      "source": [
        "numpy_train=tfds.as_numpy(tuned_train)\n",
        "numpy_test=tfds.as_numpy(tuned_test)\n",
        "numpy_validate=tfds.as_numpy(tuned_validate)\n",
        "model=Sequential()\n",
        "model.add(Conv2D(64, (3,3),input_shape=(128,128,3),strides=(1,1) , activation='relu'))\n",
        "model.add(Conv2D(64, (3,3), padding='same',strides=(1,1), activation='relu'))\n",
        "model.add(AveragePooling2D(pool_size=(2,2)))\n",
        "model.add(Dropout(0.2))\n",
        "model.add(Conv2D(128, (3,3), padding='same',strides=(1,1), activation='relu'))\n",
        "model.add(Dropout(0.2))\n",
        "model.add(Conv2D(128, (3,3), padding='same',strides=(1,1), activation='relu'))\n",
        "model.add(MaxPooling2D(pool_size=(2,2)))\n",
        "model.add(Conv2D(256, (3,3), padding='same',strides=(1,1), activation='relu'))\n",
        "model.add(Dropout(0.2))\n",
        "model.add(Conv2D(256, (3,3), padding='same',strides=(1,1), activation='relu'))\n",
        "model.add(Flatten())\n",
        "model.add(Dropout(0.1))\n",
        "model.add(Dense(256, activation='relu'))\n",
        "model.add(Dense(102, activation='softmax'))\n"
      ],
      "execution_count": 0,
      "outputs": []
    },
    {
      "cell_type": "code",
      "metadata": {
        "id": "9CNGjct8y7hc",
        "colab_type": "code",
        "outputId": "e2bd9cc8-18d6-460a-fa07-49e934f025b0",
        "colab": {
          "base_uri": "https://localhost:8080/",
          "height": 655
        }
      },
      "source": [
        "model.summary()"
      ],
      "execution_count": 21,
      "outputs": [
        {
          "output_type": "stream",
          "text": [
            "Model: \"sequential_1\"\n",
            "_________________________________________________________________\n",
            "Layer (type)                 Output Shape              Param #   \n",
            "=================================================================\n",
            "conv2d_1 (Conv2D)            (None, 126, 126, 64)      1792      \n",
            "_________________________________________________________________\n",
            "conv2d_2 (Conv2D)            (None, 126, 126, 64)      36928     \n",
            "_________________________________________________________________\n",
            "average_pooling2d_1 (Average (None, 63, 63, 64)        0         \n",
            "_________________________________________________________________\n",
            "dropout_1 (Dropout)          (None, 63, 63, 64)        0         \n",
            "_________________________________________________________________\n",
            "conv2d_3 (Conv2D)            (None, 63, 63, 128)       73856     \n",
            "_________________________________________________________________\n",
            "dropout_2 (Dropout)          (None, 63, 63, 128)       0         \n",
            "_________________________________________________________________\n",
            "conv2d_4 (Conv2D)            (None, 63, 63, 128)       147584    \n",
            "_________________________________________________________________\n",
            "max_pooling2d_1 (MaxPooling2 (None, 31, 31, 128)       0         \n",
            "_________________________________________________________________\n",
            "conv2d_5 (Conv2D)            (None, 31, 31, 256)       295168    \n",
            "_________________________________________________________________\n",
            "dropout_3 (Dropout)          (None, 31, 31, 256)       0         \n",
            "_________________________________________________________________\n",
            "conv2d_6 (Conv2D)            (None, 31, 31, 256)       590080    \n",
            "_________________________________________________________________\n",
            "flatten_1 (Flatten)          (None, 246016)            0         \n",
            "_________________________________________________________________\n",
            "dropout_4 (Dropout)          (None, 246016)            0         \n",
            "_________________________________________________________________\n",
            "dense_1 (Dense)              (None, 256)               62980352  \n",
            "_________________________________________________________________\n",
            "dense_2 (Dense)              (None, 102)               26214     \n",
            "=================================================================\n",
            "Total params: 64,151,974\n",
            "Trainable params: 64,151,974\n",
            "Non-trainable params: 0\n",
            "_________________________________________________________________\n"
          ],
          "name": "stdout"
        }
      ]
    },
    {
      "cell_type": "code",
      "metadata": {
        "id": "OA1pmT25SHR7",
        "colab_type": "code",
        "colab": {}
      },
      "source": [
        "model.compile(loss='sparse_categorical_crossentropy',  optimizer=Adam(learning_rate=0.001), metrics=['accuracy'])"
      ],
      "execution_count": 0,
      "outputs": []
    },
    {
      "cell_type": "code",
      "metadata": {
        "id": "l3bjCQyHSkA1",
        "colab_type": "code",
        "outputId": "d5715c7d-d906-41b8-f4e3-bf9cc14bd841",
        "colab": {
          "base_uri": "https://localhost:8080/",
          "height": 706
        }
      },
      "source": [
        "model.fit(numpy_train,epochs=20,steps_per_epoch=ntrain//32, validation_data=numpy_validate, validation_steps=nval//32)"
      ],
      "execution_count": 23,
      "outputs": [
        {
          "output_type": "stream",
          "text": [
            "Epoch 1/20\n",
            "192/192 [==============================] - 46s 238ms/step - loss: 4.4856 - accuracy: 0.0371 - val_loss: 4.7854 - val_accuracy: 0.0101\n",
            "Epoch 2/20\n",
            "192/192 [==============================] - 36s 187ms/step - loss: 4.3663 - accuracy: 0.0469 - val_loss: 4.7551 - val_accuracy: 0.0232\n",
            "Epoch 3/20\n",
            "192/192 [==============================] - 36s 189ms/step - loss: 3.9181 - accuracy: 0.0874 - val_loss: 4.1791 - val_accuracy: 0.0544\n",
            "Epoch 4/20\n",
            "192/192 [==============================] - 36s 189ms/step - loss: 3.5898 - accuracy: 0.1388 - val_loss: 3.6996 - val_accuracy: 0.0776\n",
            "Epoch 5/20\n",
            "192/192 [==============================] - 36s 189ms/step - loss: 3.1954 - accuracy: 0.2109 - val_loss: 3.6699 - val_accuracy: 0.1220\n",
            "Epoch 6/20\n",
            "192/192 [==============================] - 36s 189ms/step - loss: 2.7444 - accuracy: 0.3058 - val_loss: 4.1033 - val_accuracy: 0.1573\n",
            "Epoch 7/20\n",
            "192/192 [==============================] - 36s 188ms/step - loss: 2.1667 - accuracy: 0.4287 - val_loss: 4.2251 - val_accuracy: 0.1502\n",
            "Epoch 8/20\n",
            "192/192 [==============================] - 36s 189ms/step - loss: 1.6948 - accuracy: 0.5412 - val_loss: 7.9144 - val_accuracy: 0.1371\n",
            "Epoch 9/20\n",
            "192/192 [==============================] - 36s 188ms/step - loss: 1.3395 - accuracy: 0.6341 - val_loss: 8.0618 - val_accuracy: 0.1290\n",
            "Epoch 10/20\n",
            "192/192 [==============================] - 36s 188ms/step - loss: 0.9614 - accuracy: 0.7301 - val_loss: 8.0240 - val_accuracy: 0.1452\n",
            "Epoch 11/20\n",
            "192/192 [==============================] - 36s 188ms/step - loss: 0.6478 - accuracy: 0.8063 - val_loss: 8.1050 - val_accuracy: 0.1532\n",
            "Epoch 12/20\n",
            "192/192 [==============================] - 36s 188ms/step - loss: 0.3997 - accuracy: 0.8807 - val_loss: 11.2444 - val_accuracy: 0.1240\n",
            "Epoch 13/20\n",
            "192/192 [==============================] - 36s 188ms/step - loss: 0.2871 - accuracy: 0.9136 - val_loss: 10.2482 - val_accuracy: 0.1472\n",
            "Epoch 14/20\n",
            "192/192 [==============================] - 36s 188ms/step - loss: 0.2334 - accuracy: 0.9297 - val_loss: 11.3546 - val_accuracy: 0.1593\n",
            "Epoch 15/20\n",
            "192/192 [==============================] - 36s 188ms/step - loss: 0.1758 - accuracy: 0.9473 - val_loss: 12.0271 - val_accuracy: 0.1613\n",
            "Epoch 16/20\n",
            "192/192 [==============================] - 36s 188ms/step - loss: 0.1751 - accuracy: 0.9504 - val_loss: 8.9694 - val_accuracy: 0.1502\n",
            "Epoch 17/20\n",
            "192/192 [==============================] - 36s 188ms/step - loss: 0.1379 - accuracy: 0.9604 - val_loss: 7.5119 - val_accuracy: 0.1683\n",
            "Epoch 18/20\n",
            "192/192 [==============================] - 36s 189ms/step - loss: 0.0909 - accuracy: 0.9710 - val_loss: 10.2181 - val_accuracy: 0.1532\n",
            "Epoch 19/20\n",
            "192/192 [==============================] - 36s 188ms/step - loss: 0.1030 - accuracy: 0.9686 - val_loss: 12.0371 - val_accuracy: 0.1472\n",
            "Epoch 20/20\n",
            "192/192 [==============================] - 36s 189ms/step - loss: 0.0800 - accuracy: 0.9762 - val_loss: 11.5935 - val_accuracy: 0.1643\n"
          ],
          "name": "stdout"
        },
        {
          "output_type": "execute_result",
          "data": {
            "text/plain": [
              "<keras.callbacks.callbacks.History at 0x7f80001abb38>"
            ]
          },
          "metadata": {
            "tags": []
          },
          "execution_count": 23
        }
      ]
    },
    {
      "cell_type": "code",
      "metadata": {
        "id": "efTzFFFIF2fC",
        "colab_type": "code",
        "colab": {}
      },
      "source": [
        "scores = model.evaluate_generator(numpy_test, steps=30)"
      ],
      "execution_count": 0,
      "outputs": []
    },
    {
      "cell_type": "code",
      "metadata": {
        "id": "BYz_XDwoSkui",
        "colab_type": "code",
        "outputId": "57cfda81-38d9-43f7-b5e1-99de92617f22",
        "colab": {
          "base_uri": "https://localhost:8080/",
          "height": 50
        }
      },
      "source": [
        "print('Test loss:', scores[0])\n",
        "print('Test accuracy:', scores[1])"
      ],
      "execution_count": 25,
      "outputs": [
        {
          "output_type": "stream",
          "text": [
            "Test loss: 11.368631362915039\n",
            "Test accuracy: 0.15312500298023224\n"
          ],
          "name": "stdout"
        }
      ]
    },
    {
      "cell_type": "code",
      "metadata": {
        "id": "kZccc-hdGt2u",
        "colab_type": "code",
        "colab": {}
      },
      "source": [
        ""
      ],
      "execution_count": 0,
      "outputs": []
    }
  ]
}